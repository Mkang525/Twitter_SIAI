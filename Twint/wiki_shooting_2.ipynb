{
 "cells": [
  {
   "cell_type": "code",
   "execution_count": null,
   "metadata": {},
   "outputs": [],
   "source": [
    "import pandas as pd"
   ]
  },
  {
   "cell_type": "code",
   "execution_count": null,
   "metadata": {},
   "outputs": [],
   "source": [
    "url = 'https://en.wikipedia.org/wiki/List_of_school_shootings_in_the_United_States'"
   ]
  },
  {
   "cell_type": "code",
   "execution_count": null,
   "metadata": {},
   "outputs": [],
   "source": [
    "# Use Panda's `read_html` to parse the url\n",
    "tables = pd.read_html(url)\n",
    "tables\n"
   ]
  },
  {
   "cell_type": "code",
   "execution_count": null,
   "metadata": {},
   "outputs": [],
   "source": [
    "df = tables[0]\n",
    "df"
   ]
  },
  {
   "cell_type": "code",
   "execution_count": null,
   "metadata": {},
   "outputs": [],
   "source": [
    "df.to_csv(\"shooting_1.csv\", encoding='UTF-8',index=False, header=True)"
   ]
  },
  {
   "cell_type": "markdown",
   "metadata": {},
   "source": [
    "# Twint - Saugus High School \n"
   ]
  },
  {
   "cell_type": "code",
   "execution_count": 2,
   "metadata": {},
   "outputs": [],
   "source": [
    "import twint\n",
    "import nest_asyncio\n",
    "nest_asyncio.apply()"
   ]
  },
  {
   "cell_type": "code",
   "execution_count": null,
   "metadata": {},
   "outputs": [],
   "source": [
    "c = twint.Config()\n",
    "# c.Location = True\n",
    "# c.Near = 'Santa Clarita'\n",
    "c.Search = 'Saugus', 'shooting'\n",
    "c.Count = True\n",
    "c.Since = '2019-11-14'\n",
    "c.Until = '2019-11-20'\n",
    "c.Pandas = True\n",
    "c.Show_hashtags = True\n",
    "c.Stats = True\n",
    "c.Hide_output = True\n",
    "c.Store_csv = True\n",
    "c.Output = 'saugus.csv'\n",
    "\n",
    "\n",
    "twint.run.Search(c)\n"
   ]
  },
  {
   "cell_type": "code",
   "execution_count": null,
   "metadata": {},
   "outputs": [],
   "source": [
    "import pandas as pd\n",
    "\n",
    "# Make a reference to the saugus.csv file path\n",
    "csv_path = \"saugus.csv\"\n",
    "\n",
    "# Import the saugus.csv file as a DataFrame\n",
    "saugus_df = pd.read_csv(csv_path)\n",
    "saugus_df.head(20)"
   ]
  },
  {
   "cell_type": "code",
   "execution_count": null,
   "metadata": {},
   "outputs": [],
   "source": [
    "# Get specific columns and create a new dataframe\n",
    "\n",
    "saugus_df = saugus_df[['username','date','created_at','place','tweet','language','replies_count', 'retweets_count', 'likes_count','hashtags','retweet','retweet_date']]\n",
    "saugus_df\n"
   ]
  },
  {
   "cell_type": "markdown",
   "metadata": {},
   "source": [
    "# Twint - Umpqua Community College"
   ]
  },
  {
   "cell_type": "code",
   "execution_count": null,
   "metadata": {},
   "outputs": [],
   "source": [
    "c = twint.Config()\n",
    "# c.Location = True\n",
    "# c.Near = 'Roseburg'\n",
    "c.Search = 'Umpqua', 'College'\n",
    "c.Limit = 1\n",
    "c.Count = True\n",
    "c.Since = '2015-10-01'\n",
    "c.Until = '2015-10-04'\n",
    "c.Pandas = True\n",
    "c.Show_hashtags = True\n",
    "# c.Stats = True\n",
    "# c.Hide_output = True\n",
    "# c.Store_csv = True\n",
    "# c.Output = 'Umpqua2.csv'\n",
    "\n",
    "\n",
    "twint.run.Search(c)"
   ]
  },
  {
   "cell_type": "code",
   "execution_count": null,
   "metadata": {},
   "outputs": [],
   "source": [
    "tweets = twint.output.tweets_list\n",
    "\n",
    "for t in tweets:\n",
    "    print(t)"
   ]
  },
  {
   "cell_type": "code",
   "execution_count": null,
   "metadata": {},
   "outputs": [],
   "source": []
  }
 ],
 "metadata": {
  "kernelspec": {
   "display_name": "Python 3",
   "language": "python",
   "name": "python3"
  },
  "language_info": {
   "codemirror_mode": {
    "name": "ipython",
    "version": 3
   },
   "file_extension": ".py",
   "mimetype": "text/x-python",
   "name": "python",
   "nbconvert_exporter": "python",
   "pygments_lexer": "ipython3",
   "version": "3.6.10"
  }
 },
 "nbformat": 4,
 "nbformat_minor": 4
}
